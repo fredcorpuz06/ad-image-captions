{
 "cells": [
  {
   "cell_type": "code",
   "execution_count": 1,
   "metadata": {},
   "outputs": [],
   "source": [
    "# -*- coding: utf-8 -*-\n",
    "from __future__ import print_function, division\n",
    "import os\n",
    "import torch\n",
    "import pandas as pd\n",
    "from skimage import io, transform\n",
    "import numpy as np\n",
    "import matplotlib.pyplot as plt\n",
    "from torch.utils.data import Dataset, DataLoader\n",
    "from torchvision import transforms, utils\n",
    "\n",
    "# Ignore warnings   \n",
    "import warnings\n",
    "warnings.filterwarnings(\"ignore\")\n",
    "\n",
    "plt.ion()   # interactive mode"
   ]
  },
  {
   "cell_type": "code",
   "execution_count": 2,
   "metadata": {},
   "outputs": [],
   "source": [
    "# pretty display of variables\n",
    "from IPython.core.interactiveshell import InteractiveShell\n",
    "InteractiveShell.ast_node_interactivity = \"all\""
   ]
  },
  {
   "cell_type": "markdown",
   "metadata": {},
   "source": [
    "# Loading in Stored NNet "
   ]
  },
  {
   "cell_type": "code",
   "execution_count": 5,
   "metadata": {},
   "outputs": [],
   "source": [
    "# http://adventuresinmachinelearning.com/convolutional-neural-networks-tutorial-in-pytorch/\n",
    "\n",
    "import torch.nn as nn\n",
    "import torch.nn.functional as F\n",
    "\n",
    "\n",
    "\n",
    "\n",
    "class ConvNet64(nn.Module):\n",
    "    def __init__(self):\n",
    "        super(ConvNet64, self).__init__()\n",
    "        self.layer1 = nn.Sequential(\n",
    "            nn.Conv2d(in_channels=3,out_channels=16,\n",
    "                      kernel_size=5, stride=1,\n",
    "                      padding=2), ## still 64*64 coming out\n",
    "            nn.ReLU(),\n",
    "            nn.MaxPool2d(kernel_size=2, stride=2,\n",
    "                        padding=0)) ## 32*32 at this point\n",
    "        self.layer2 = nn.Sequential(\n",
    "            nn.Conv2d(16, 32, kernel_size=5,\n",
    "                      stride=1, padding=2),\n",
    "            nn.ReLU(),\n",
    "            nn.MaxPool2d(kernel_size=2, stride=2)) # 16*16\n",
    "        self.layer3 = nn.Sequential(\n",
    "            nn.Conv2d(32, 64, kernel_size=5,\n",
    "                      stride=1, padding=2),\n",
    "            nn.ReLU(),\n",
    "            nn.MaxPool2d(kernel_size=2, stride=2)) # 8*8\n",
    "        self.drop_out = nn.Dropout() \n",
    "        self.fc1 = nn.Linear(in_features=7 * 7 * 64,\n",
    "                             out_features=1000)\n",
    "        self.fc2 = nn.Linear(1000, 11)\n",
    "        \n",
    "    def forward(self, x):\n",
    "        out = self.layer1(x)\n",
    "        out = self.layer2(out)\n",
    "        out = self.layer3(out)\n",
    "        out = out.reshape(out.size(0), -1) # flatten\n",
    "        out = self.drop_out(out)\n",
    "        out = self.fc1(out)\n",
    "        out = self.fc2(out)\n",
    "        return out\n",
    "    \n",
    "\n",
    "\n",
    "net = ConvNet64()"
   ]
  },
  {
   "cell_type": "code",
   "execution_count": 7,
   "metadata": {},
   "outputs": [
    {
     "data": {
      "text/plain": [
       "ConvNet64(\n",
       "  (layer1): Sequential(\n",
       "    (0): Conv2d(3, 16, kernel_size=(5, 5), stride=(1, 1), padding=(2, 2))\n",
       "    (1): ReLU()\n",
       "    (2): MaxPool2d(kernel_size=2, stride=2, padding=0, dilation=1, ceil_mode=False)\n",
       "  )\n",
       "  (layer2): Sequential(\n",
       "    (0): Conv2d(16, 32, kernel_size=(5, 5), stride=(1, 1), padding=(2, 2))\n",
       "    (1): ReLU()\n",
       "    (2): MaxPool2d(kernel_size=2, stride=2, padding=0, dilation=1, ceil_mode=False)\n",
       "  )\n",
       "  (layer3): Sequential(\n",
       "    (0): Conv2d(32, 64, kernel_size=(5, 5), stride=(1, 1), padding=(2, 2))\n",
       "    (1): ReLU()\n",
       "    (2): MaxPool2d(kernel_size=2, stride=2, padding=0, dilation=1, ceil_mode=False)\n",
       "  )\n",
       "  (drop_out): Dropout(p=0.5)\n",
       "  (fc1): Linear(in_features=3136, out_features=1000, bias=True)\n",
       "  (fc2): Linear(in_features=1000, out_features=11, bias=True)\n",
       ")"
      ]
     },
     "execution_count": 7,
     "metadata": {},
     "output_type": "execute_result"
    }
   ],
   "source": [
    "net.load_state_dict(torch.load('../models/adam64.pt'))\n",
    "net.eval()"
   ]
  },
  {
   "cell_type": "code",
   "execution_count": 8,
   "metadata": {},
   "outputs": [
    {
     "name": "stdout",
     "output_type": "stream",
     "text": [
      "Model's state_dict:\n",
      "layer1.0.weight \t torch.Size([16, 3, 5, 5])\n",
      "layer1.0.bias \t torch.Size([16])\n",
      "layer2.0.weight \t torch.Size([32, 16, 5, 5])\n",
      "layer2.0.bias \t torch.Size([32])\n",
      "layer3.0.weight \t torch.Size([64, 32, 5, 5])\n",
      "layer3.0.bias \t torch.Size([64])\n",
      "fc1.weight \t torch.Size([1000, 3136])\n",
      "fc1.bias \t torch.Size([1000])\n",
      "fc2.weight \t torch.Size([11, 1000])\n",
      "fc2.bias \t torch.Size([11])\n"
     ]
    }
   ],
   "source": [
    "print(\"Model's state_dict:\")\n",
    "for param_tensor in net.state_dict():\n",
    "    print(param_tensor, \"\\t\", net.state_dict()[param_tensor].size())\n"
   ]
  },
  {
   "cell_type": "code",
   "execution_count": 6,
   "metadata": {},
   "outputs": [
    {
     "data": {
      "text/plain": [
       "tensor([ 0.1158,  0.0227,  0.1451,  0.0033, -0.0611,  0.0731])"
      ]
     },
     "execution_count": 6,
     "metadata": {},
     "output_type": "execute_result"
    }
   ],
   "source": [
    "net.state_dict()['conv1.bias']"
   ]
  },
  {
   "cell_type": "code",
   "execution_count": null,
   "metadata": {},
   "outputs": [],
   "source": []
  },
  {
   "cell_type": "markdown",
   "metadata": {},
   "source": [
    "## Prep tweet image data"
   ]
  },
  {
   "cell_type": "code",
   "execution_count": 9,
   "metadata": {},
   "outputs": [],
   "source": [
    "# Loading in data\n",
    "\n",
    "class Food11Dataset(Dataset):\n",
    "    \"\"\"Food 11 dataset.\"\"\"\n",
    "\n",
    "    def __init__(self, csv_file, root_dir, transform=None):\n",
    "        \"\"\"\n",
    "        Args:\n",
    "            csv_file (string): Path to the csv file with annotations.\n",
    "            root_dir (string): Directory with all the images.\n",
    "            transform (callable, optional): Optional transform to be applied\n",
    "                on a sample.\n",
    "        \"\"\"\n",
    "        self.index_file = pd.read_csv(csv_file) # first column: image_name (i.e. 0809-personal.jpg)\n",
    "        self.root_dir = root_dir\n",
    "        self.transform = transform\n",
    "\n",
    "    def __len__(self):\n",
    "        return len(self.index_file)\n",
    "\n",
    "    def __getitem__(self, idx):\n",
    "        img_name = os.path.join(self.root_dir,\n",
    "                                self.index_file.iloc[idx, 0]) # get filepath to image\n",
    "        image = io.imread(img_name)\n",
    "        label = self.index_file.iloc[idx, 1] # get the labels\n",
    "\n",
    "        if self.transform:\n",
    "            image = self.transform(image)\n",
    "\n",
    "        return image, label"
   ]
  },
  {
   "cell_type": "code",
   "execution_count": 10,
   "metadata": {},
   "outputs": [],
   "source": [
    "# Transforms\n",
    "class Rescale(object):\n",
    "    \"\"\"Rescale the image in a sample to a given size.\n",
    "\n",
    "    Args:\n",
    "        output_size (tuple or int): Desired output size. If tuple, output is\n",
    "            matched to output_size. If int, smaller of image edges is matched\n",
    "            to output_size keeping aspect ratio the same.\n",
    "    \"\"\"\n",
    "\n",
    "    def __init__(self, output_size):\n",
    "        assert isinstance(output_size, (int, tuple))\n",
    "        self.output_size = output_size\n",
    "\n",
    "    def __call__(self, image):\n",
    "\n",
    "        h, w = image.shape[:2]\n",
    "        if isinstance(self.output_size, int):\n",
    "            if h > w:\n",
    "                new_h, new_w = self.output_size * h / w, self.output_size\n",
    "            else:\n",
    "                new_h, new_w = self.output_size, self.output_size * w / h\n",
    "        else:\n",
    "            new_h, new_w = self.output_size\n",
    "\n",
    "        new_h, new_w = int(new_h), int(new_w)\n",
    "\n",
    "        img = transform.resize(image, (new_h, new_w, 3)) ## ensure 3 channels\n",
    "\n",
    "        return img\n",
    "\n",
    "\n",
    "class RandomCrop(object):\n",
    "    \"\"\"Crop randomly the image in a sample.\n",
    "\n",
    "    Args:\n",
    "        output_size (tuple or int): Desired output size. If int, square crop\n",
    "            is made.\n",
    "    \"\"\"\n",
    "\n",
    "    def __init__(self, output_size):\n",
    "        assert isinstance(output_size, (int, tuple))\n",
    "        if isinstance(output_size, int):\n",
    "            self.output_size = (output_size, output_size)\n",
    "        else:\n",
    "            assert len(output_size) == 2\n",
    "            self.output_size = output_size\n",
    "\n",
    "    def __call__(self, image):\n",
    "\n",
    "        h, w = image.shape[:2]\n",
    "        new_h, new_w = self.output_size\n",
    "\n",
    "        top = np.random.randint(0, h - new_h)\n",
    "        left = np.random.randint(0, w - new_w)\n",
    "\n",
    "        image = image[top: top + new_h,\n",
    "                      left: left + new_w]\n",
    "\n",
    "        return image\n",
    "\n",
    "\n",
    "class ToTensor(object):\n",
    "    \"\"\"Convert ndarrays in sample to Tensors.\"\"\"\n",
    "\n",
    "    def __call__(self, image):\n",
    "\n",
    "        # swap color axis because\n",
    "        # numpy image: H x W x C\n",
    "        # torch image: C X H X W\n",
    "        image = image.transpose((2, 0, 1))\n",
    "        \n",
    "        return torch.from_numpy(image)"
   ]
  },
  {
   "cell_type": "code",
   "execution_count": 11,
   "metadata": {},
   "outputs": [],
   "source": [
    "# Ready to load + transform images\n",
    "my_transform = transforms.Compose([\n",
    "                                   Rescale(64),\n",
    "                                   RandomCrop(56),\n",
    "                                   ToTensor(),\n",
    "    transforms.Normalize((0.5, 0.5, 0.5), (0.5, 0.5, 0.5))\n",
    "                                   ])"
   ]
  },
  {
   "cell_type": "code",
   "execution_count": 12,
   "metadata": {},
   "outputs": [],
   "source": [
    "tweetset = Food11Dataset(csv_file='../output/tweet-imgs-index2.csv',\n",
    "                         root_dir='../output/imgs/',\n",
    "                        transform=my_transform)\n"
   ]
  },
  {
   "cell_type": "code",
   "execution_count": 20,
   "metadata": {},
   "outputs": [],
   "source": [
    "tweetloader = DataLoader(tweetset, batch_size=4,\n",
    "                         shuffle=False, num_workers=0) #num_workers=0 because can't parallelize in Windows\n",
    "classes = ('bread', 'dairy-product', 'dessert', 'egg', 'fried-food', 'meat', 'noodles/pasta', 'rice', 'seafood', 'soup', 'vegetable', 'fruit') # tuple that I can index into"
   ]
  },
  {
   "cell_type": "code",
   "execution_count": 14,
   "metadata": {},
   "outputs": [
    {
     "data": {
      "text/plain": [
       "1479"
      ]
     },
     "execution_count": 14,
     "metadata": {},
     "output_type": "execute_result"
    }
   ],
   "source": [
    "len(tweetset)"
   ]
  },
  {
   "cell_type": "code",
   "execution_count": 34,
   "metadata": {},
   "outputs": [],
   "source": [
    "import matplotlib.pyplot as plt\n",
    "import numpy as np\n",
    "\n",
    "# functions to show an image\n",
    "\n",
    "\n",
    "def imshow(img):\n",
    "    img = img / 2 + 0.5     # unnormalize\n",
    "    npimg = img.numpy()\n",
    "    plt.imshow(np.transpose(npimg, (1, 2, 0))) ## move around the dimensions: # 3*32*32 --> 32*32*3"
   ]
  },
  {
   "cell_type": "code",
   "execution_count": 35,
   "metadata": {},
   "outputs": [
    {
     "data": {
      "image/png": "[encoded data removed]",
      "text/plain": [
       "<Figure size 432x288 with 1 Axes>"
      ]
     },
     "metadata": {},
     "output_type": "display_data"
    }
   ],
   "source": [
    "sample = iter(tweetloader)\n",
    "imgs, lbls = sample.next()\n",
    "imshow(utils.make_grid(imgs))\n",
    "# print('GroundTruth: ', ' '.join('%5s' % classes[lbls[j]] for j in range(4)))"
   ]
  },
  {
   "cell_type": "code",
   "execution_count": 36,
   "metadata": {},
   "outputs": [
    {
     "data": {
      "text/plain": [
       "tensor([10,  9,  8, 10])"
      ]
     },
     "execution_count": 36,
     "metadata": {},
     "output_type": "execute_result"
    },
    {
     "name": "stdout",
     "output_type": "stream",
     "text": [
      "My guess:  vegetable  soup seafood vegetable\n"
     ]
    }
   ],
   "source": [
    "predict = net(imgs.float())\n",
    "_, y = torch.max(predict, 1)\n",
    "y\n",
    "print('My guess: ', ' '.join('%5s' % classes[y[j]] for j in range(4)))"
   ]
  },
  {
   "cell_type": "code",
   "execution_count": 21,
   "metadata": {},
   "outputs": [
    {
     "name": "stdout",
     "output_type": "stream",
     "text": [
      "torch.Size([4])\n",
      "torch.Size([104])\n",
      "torch.Size([204])\n",
      "torch.Size([304])\n",
      "torch.Size([404])\n",
      "torch.Size([504])\n",
      "torch.Size([604])\n",
      "torch.Size([704])\n",
      "torch.Size([804])\n",
      "torch.Size([904])\n",
      "torch.Size([1004])\n",
      "torch.Size([1104])\n",
      "torch.Size([1204])\n",
      "torch.Size([1304])\n",
      "torch.Size([1404])\n"
     ]
    }
   ],
   "source": [
    "# get all predicted values\n",
    "Yhat = torch.tensor([], dtype=torch.long)\n",
    "with torch.no_grad():\n",
    "    for i_batch, data in enumerate(tweetloader):\n",
    "        images, labels = data\n",
    "        outputs = net(images.float())\n",
    "        _, predicted = torch.max(outputs.data, 1)\n",
    "        Yhat = torch.cat((Yhat, predicted))\n",
    "        \n",
    "        if i_batch % 25 == 0:\n",
    "            print(Yhat.size())"
   ]
  },
  {
   "cell_type": "code",
   "execution_count": 25,
   "metadata": {},
   "outputs": [
    {
     "data": {
      "text/plain": [
       "1479"
      ]
     },
     "execution_count": 25,
     "metadata": {},
     "output_type": "execute_result"
    }
   ],
   "source": [
    "len(Yhat)"
   ]
  },
  {
   "cell_type": "code",
   "execution_count": 23,
   "metadata": {},
   "outputs": [
    {
     "name": "stdout",
     "output_type": "stream",
     "text": [
      "dessert dairy-product vegetable vegetable dessert bread vegetable bread vegetable bread vegetable vegetable vegetable dessert egg vegetable vegetable vegetable dairy-product vegetable dessert dessert dessert soup bread dessert egg egg dessert dessert vegetable dairy-product meat dessert vegetable meat vegetable bread noodles/pasta meat seafood vegetable vegetable dessert vegetable noodles/pasta vegetable dessert fried-food soup noodles/pasta vegetable vegetable vegetable vegetable bread vegetable vegetable vegetable soup dessert dessert noodles/pasta bread bread vegetable vegetable vegetable dessert vegetable dessert vegetable vegetable dessert vegetable dessert noodles/pasta vegetable vegetable dessert vegetable dairy-product vegetable vegetable vegetable dessert vegetable noodles/pasta dessert bread bread vegetable bread dessert vegetable vegetable vegetable soup vegetable vegetable\n"
     ]
    }
   ],
   "source": [
    "print(' '.join(classes[Yhat[j]] for j in range(len(Yhat[:100])))) "
   ]
  },
  {
   "cell_type": "code",
   "execution_count": 27,
   "metadata": {},
   "outputs": [],
   "source": [
    "def write_predicted(dir_name, csv_fn):\n",
    "    '''Write file names in folder to csv.'''\n",
    "    img_names  = os.listdir(dir_name)\n",
    "    with open(csv_fn, 'w+') as f:\n",
    "        f.write('img_name,label\\n')\n",
    "        for i in range(len(img_names)-1):\n",
    "            img_name = img_names[i]\n",
    "            img_label = Yhat[i]\n",
    "            row = f'{img_name},{img_label}\\n'\n",
    "            f.write(row)\n",
    "write_predicted('../output/imgs/', '../output/actual-nnet-out2.csv')"
   ]
  },
  {
   "cell_type": "code",
   "execution_count": 28,
   "metadata": {},
   "outputs": [
    {
     "data": {
      "text/plain": [
       "['dessert', 'dairy-product', 'vegetable', 'vegetable', 'dessert']"
      ]
     },
     "execution_count": 28,
     "metadata": {},
     "output_type": "execute_result"
    }
   ],
   "source": [
    "input_index = pd.read_csv('../output/tweet-imgs-index2.csv')\n",
    "YhatLabels = [classes[y] for y in Yhat]\n",
    "YhatLabels[:5]"
   ]
  },
  {
   "cell_type": "code",
   "execution_count": 29,
   "metadata": {},
   "outputs": [],
   "source": [
    "input_index['label'] = YhatLabels\n",
    "file_loc = '../output/actual-nnet-output2.csv'\n",
    "input_index.to_csv(file_loc, index=False, mode='w+')"
   ]
  },
  {
   "cell_type": "markdown",
   "metadata": {},
   "source": [
    "## Generating tweet from our database"
   ]
  },
  {
   "cell_type": "markdown",
   "metadata": {},
   "source": [
    "Using the classified tweet images, we use the tweets they are paired with and assume that this tweet is highly correlated with that category"
   ]
  },
  {
   "cell_type": "markdown",
   "metadata": {},
   "source": [
    "For example\n",
    "* KFC image --> meat --> \"Finger-lickin good\"\n",
    "* New image --> meat --> \"Finger-lickin good\""
   ]
  },
  {
   "cell_type": "code",
   "execution_count": 37,
   "metadata": {},
   "outputs": [
    {
     "data": {
      "text/html": [
       "<div>\n",
       "<style scoped>\n",
       "    .dataframe tbody tr th:only-of-type {\n",
       "        vertical-align: middle;\n",
       "    }\n",
       "\n",
       "    .dataframe tbody tr th {\n",
       "        vertical-align: top;\n",
       "    }\n",
       "\n",
       "    .dataframe thead th {\n",
       "        text-align: right;\n",
       "    }\n",
       "</style>\n",
       "<table border=\"1\" class=\"dataframe\">\n",
       "  <thead>\n",
       "    <tr style=\"text-align: right;\">\n",
       "      <th></th>\n",
       "      <th>img_name</th>\n",
       "      <th>label</th>\n",
       "      <th>tweet</th>\n",
       "      <th>link</th>\n",
       "    </tr>\n",
       "  </thead>\n",
       "  <tbody>\n",
       "    <tr>\n",
       "      <th>0</th>\n",
       "      <td>Arbys-i1062782215786979328.jpg</td>\n",
       "      <td>dessert</td>\n",
       "      <td>We're feelin' the spirit of '76 https://t.co/Y...</td>\n",
       "      <td>http://pbs.twimg.com/media/Dr-NIFBXQAEHpXW.jpg</td>\n",
       "    </tr>\n",
       "    <tr>\n",
       "      <th>1</th>\n",
       "      <td>Arbys-i1060562590357700609.jpg</td>\n",
       "      <td>dairy-product</td>\n",
       "      <td>Why maintaining proper intervals is so importa...</td>\n",
       "      <td>http://pbs.twimg.com/tweet_video_thumb/DrfbyZd...</td>\n",
       "    </tr>\n",
       "    <tr>\n",
       "      <th>2</th>\n",
       "      <td>Arbys-i1059475431227879428.jpg</td>\n",
       "      <td>vegetable</td>\n",
       "      <td>Having trouble growing out that 'stache? Use o...</td>\n",
       "      <td>http://pbs.twimg.com/media/DrPtCjbXcAETtYg.jpg</td>\n",
       "    </tr>\n",
       "    <tr>\n",
       "      <th>3</th>\n",
       "      <td>Arbys-i1058735553326137344.jpg</td>\n",
       "      <td>vegetable</td>\n",
       "      <td>Which sandwich should YOU buy to celebrate #Na...</td>\n",
       "      <td>http://pbs.twimg.com/tweet_video_thumb/DrFUZqd...</td>\n",
       "    </tr>\n",
       "    <tr>\n",
       "      <th>4</th>\n",
       "      <td>Arbys-i1058044649053585408.jpg</td>\n",
       "      <td>dessert</td>\n",
       "      <td>@JalenandJacoby Far be it from us to deny the ...</td>\n",
       "      <td>http://pbs.twimg.com/media/Dq7t_2cX0AEe1nX.jpg</td>\n",
       "    </tr>\n",
       "  </tbody>\n",
       "</table>\n",
       "</div>"
      ],
      "text/plain": [
       "                         img_name          label  \\\n",
       "0  Arbys-i1062782215786979328.jpg        dessert   \n",
       "1  Arbys-i1060562590357700609.jpg  dairy-product   \n",
       "2  Arbys-i1059475431227879428.jpg      vegetable   \n",
       "3  Arbys-i1058735553326137344.jpg      vegetable   \n",
       "4  Arbys-i1058044649053585408.jpg        dessert   \n",
       "\n",
       "                                               tweet  \\\n",
       "0  We're feelin' the spirit of '76 https://t.co/Y...   \n",
       "1  Why maintaining proper intervals is so importa...   \n",
       "2  Having trouble growing out that 'stache? Use o...   \n",
       "3  Which sandwich should YOU buy to celebrate #Na...   \n",
       "4  @JalenandJacoby Far be it from us to deny the ...   \n",
       "\n",
       "                                                link  \n",
       "0     http://pbs.twimg.com/media/Dr-NIFBXQAEHpXW.jpg  \n",
       "1  http://pbs.twimg.com/tweet_video_thumb/DrfbyZd...  \n",
       "2     http://pbs.twimg.com/media/DrPtCjbXcAETtYg.jpg  \n",
       "3  http://pbs.twimg.com/tweet_video_thumb/DrFUZqd...  \n",
       "4     http://pbs.twimg.com/media/Dq7t_2cX0AEe1nX.jpg  "
      ]
     },
     "execution_count": 37,
     "metadata": {},
     "output_type": "execute_result"
    }
   ],
   "source": [
    "tweet_db = pd.read_csv('../output/actual-nnet-output2.csv')\n",
    "tweet_db.head()"
   ]
  },
  {
   "cell_type": "code",
   "execution_count": 31,
   "metadata": {},
   "outputs": [],
   "source": [
    "def get_tweet_db(df, my_label):\n",
    "    df = df[df.label == my_label]\n",
    "    return df.tweet.tolist()"
   ]
  },
  {
   "cell_type": "code",
   "execution_count": 32,
   "metadata": {},
   "outputs": [
    {
     "data": {
      "text/plain": [
       "361"
      ]
     },
     "execution_count": 32,
     "metadata": {},
     "output_type": "execute_result"
    }
   ],
   "source": [
    "a = get_tweet_db(tweet_db, 'dessert')\n",
    "len(a)"
   ]
  },
  {
   "cell_type": "code",
   "execution_count": 33,
   "metadata": {},
   "outputs": [
    {
     "name": "stdout",
     "output_type": "stream",
     "text": [
      "bread 158\n",
      "dairy-product 117\n",
      "dessert 361\n",
      "egg 55\n",
      "fried-food 25\n",
      "meat 93\n",
      "noodles/pasta 50\n",
      "rice 2\n",
      "seafood 55\n",
      "soup 68\n",
      "vegetable 495\n",
      "fruit 0\n"
     ]
    }
   ],
   "source": [
    "tweet_dict = {}\n",
    "total_tweets = 0\n",
    "for l in classes:\n",
    "    my_tweets = get_tweet_db(tweet_db, l)\n",
    "    print(l, len(my_tweets))\n",
    "    tweet_dict[l] = my_tweets\n",
    "    total_tweets += len(my_tweets)"
   ]
  },
  {
   "cell_type": "code",
   "execution_count": 100,
   "metadata": {},
   "outputs": [
    {
     "data": {
      "text/plain": [
       "1479"
      ]
     },
     "execution_count": 100,
     "metadata": {},
     "output_type": "execute_result"
    }
   ],
   "source": [
    "total_tweets ## correct is 1479"
   ]
  },
  {
   "cell_type": "code",
   "execution_count": 38,
   "metadata": {},
   "outputs": [],
   "source": [
    "import random\n",
    "def generate_tweet(tweet_dict, my_class):\n",
    "    twts = tweet_dict[my_class]\n",
    "    return twts[random.randint(0, len(twts) - 1)]"
   ]
  },
  {
   "cell_type": "code",
   "execution_count": 39,
   "metadata": {},
   "outputs": [
    {
     "data": {
      "text/plain": [
       "['Dip it low. No cover fee required. https://t.co/u2TRllFSlq',\n",
       " \"DON'T BLINK https://t.co/Wnd3ZqUTWE\",\n",
       " 'Dip it low. No cover fee required. https://t.co/u2TRllFSlq',\n",
       " '7 continents in 24 hours! A well-earned break helps him through the night! ;) #mybreak   https://t.co/2ECu8ac4nL',\n",
       " 'Back on QVC a beautiful pendant that (kind of!) LOOKS LIKE A PANCAKE! #supertroll http://t.co/zZJ71eoK7E']"
      ]
     },
     "execution_count": 39,
     "metadata": {},
     "output_type": "execute_result"
    }
   ],
   "source": [
    "[generate_tweet(tweet_dict, 'dessert') for _ in range(5)]"
   ]
  },
  {
   "cell_type": "markdown",
   "metadata": {},
   "source": [
    "## Advertising for fake client"
   ]
  },
  {
   "cell_type": "code",
   "execution_count": 40,
   "metadata": {},
   "outputs": [],
   "source": [
    "def write_names(dir_name, csv_fn):\n",
    "    '''Write file names in folder to csv.'''\n",
    "    img_names  = os.listdir(dir_name)\n",
    "    with open(csv_fn, 'w+') as f:\n",
    "        f.write('img_name,label\\n')\n",
    "        for i in range(len(img_names)):\n",
    "            img_name = img_names[i]\n",
    "            img_label = '-1'\n",
    "            row = f'{img_name},{img_label}\\n'\n",
    "            f.write(row)\n",
    "write_names('../data/Fake-Client/imgs', '../data/Fake-Client/fclient-imgs-index.csv')"
   ]
  },
  {
   "cell_type": "code",
   "execution_count": 41,
   "metadata": {},
   "outputs": [],
   "source": [
    "jolliset = Food11Dataset(csv_file='../data/Fake-Client/fclient-imgs-index.csv',\n",
    "                         root_dir='../data/Fake-Client/imgs',\n",
    "                        transform=my_transform)\n"
   ]
  },
  {
   "cell_type": "code",
   "execution_count": 42,
   "metadata": {},
   "outputs": [],
   "source": [
    "jolliloader = DataLoader(jolliset, batch_size=4,\n",
    "                         shuffle=False, num_workers=0) #num_workers=0 because can't parallelize in Windows\n",
    "classes = ('bread', 'dairy-product', 'dessert', 'egg', 'fried-food', 'meat', 'noodles/pasta', 'rice', 'seafood', 'soup', 'vegetable', 'fruit') # tuple that I can index into"
   ]
  },
  {
   "cell_type": "code",
   "execution_count": 43,
   "metadata": {},
   "outputs": [],
   "source": [
    "dataiter = iter(jolliloader)"
   ]
  },
  {
   "cell_type": "code",
   "execution_count": 44,
   "metadata": {},
   "outputs": [
    {
     "name": "stdout",
     "output_type": "stream",
     "text": [
      "noodles/pasta --> Feast your eyes on the new $5 Steak Nachos Box. It s kind of a big meal. https://t.co/bGltXcMLFL\n",
      "bread --> sesame game strong #nailedit https://t.co/rVVaQlQz7e\n",
      "dessert --> Always butter!   https://t.co/DDmrTd4RJ6\n",
      "bread --> SEE BELOW: 15 reasons to hit up the Castle today.   ( : Insta #BoldCraver  eatingwithcatherine) https://t.co/SIZZVGcGEm\n"
     ]
    },
    {
     "data": {
      "image/png": "[encoded data removed]",
      "text/plain": [
       "<Figure size 432x288 with 1 Axes>"
      ]
     },
     "metadata": {},
     "output_type": "display_data"
    }
   ],
   "source": [
    "imgs1, _ = dataiter.next()\n",
    "predict = net(imgs1.float())\n",
    "_, y1 = torch.max(predict, 1)\n",
    "y1_labs = [classes[i] for i in y1]\n",
    "gen_twts1 = [generate_tweet(tweet_dict, i) for i in y1_labs]\n",
    "for l, t in zip(y1_labs, gen_twts1):\n",
    "    print('{} --> {}'.format(l, t))\n",
    "imshow(utils.make_grid(imgs1))"
   ]
  },
  {
   "cell_type": "markdown",
   "metadata": {},
   "source": [
    "![ss1](../output/ss1.png)"
   ]
  },
  {
   "cell_type": "code",
   "execution_count": 45,
   "metadata": {},
   "outputs": [
    {
     "name": "stdout",
     "output_type": "stream",
     "text": [
      "fried-food --> the perfect family film for the holidays - Little Orphan Pannie http://t.co/SQYwfzntoJ\n",
      "noodles/pasta --> #Crabfest is calling your name. Get it this weekend before it's gone!   https://t.co/mci4xXYqKC\n",
      "dessert --> Back on QVC a beautiful pendant that (kind of!) LOOKS LIKE A PANCAKE! #supertroll http://t.co/zZJ71eoK7E\n",
      "vegetable --> Step inside #TacoBell2032: Demolition Man Experience. https://t.co/iS73eDmZmY\n"
     ]
    },
    {
     "data": {
      "image/png": "[encoded data removed]",
      "text/plain": [
       "<Figure size 432x288 with 1 Axes>"
      ]
     },
     "metadata": {},
     "output_type": "display_data"
    }
   ],
   "source": [
    "imgs2, _ = dataiter.next()\n",
    "predict = net(imgs2.float())\n",
    "_, y2 = torch.max(predict, 1)\n",
    "y2_labs = [classes[i] for i in y2]\n",
    "gen_twts2 = [generate_tweet(tweet_dict, i) for i in y2_labs]\n",
    "for l, t in zip(y2_labs, gen_twts2):\n",
    "    print('{} --> {}'.format(l, t))\n",
    "imshow(utils.make_grid(imgs2))"
   ]
  },
  {
   "cell_type": "markdown",
   "metadata": {},
   "source": [
    "![ss2](../output/ss2.png)"
   ]
  },
  {
   "cell_type": "code",
   "execution_count": 46,
   "metadata": {},
   "outputs": [
    {
     "data": {
      "text/plain": [
       "['noodles/pasta',\n",
       " 'bread',\n",
       " 'dessert',\n",
       " 'bread',\n",
       " 'fried-food',\n",
       " 'noodles/pasta',\n",
       " 'dessert',\n",
       " 'vegetable']"
      ]
     },
     "execution_count": 46,
     "metadata": {},
     "output_type": "execute_result"
    }
   ],
   "source": [
    "yhat = torch.cat((y1, y2))\n",
    "\n",
    "yhat_labels = [classes[y] for y in yhat]\n",
    "yhat_labels"
   ]
  },
  {
   "cell_type": "code",
   "execution_count": 47,
   "metadata": {},
   "outputs": [
    {
     "data": {
      "text/html": [
       "<div>\n",
       "<style scoped>\n",
       "    .dataframe tbody tr th:only-of-type {\n",
       "        vertical-align: middle;\n",
       "    }\n",
       "\n",
       "    .dataframe tbody tr th {\n",
       "        vertical-align: top;\n",
       "    }\n",
       "\n",
       "    .dataframe thead th {\n",
       "        text-align: right;\n",
       "    }\n",
       "</style>\n",
       "<table border=\"1\" class=\"dataframe\">\n",
       "  <thead>\n",
       "    <tr style=\"text-align: right;\">\n",
       "      <th></th>\n",
       "      <th>img_name</th>\n",
       "      <th>label</th>\n",
       "    </tr>\n",
       "  </thead>\n",
       "  <tbody>\n",
       "    <tr>\n",
       "      <th>0</th>\n",
       "      <td>878264dc-f7ea-453f-9ae5-66c95cdbc888.jpg</td>\n",
       "      <td>noodles/pasta</td>\n",
       "    </tr>\n",
       "    <tr>\n",
       "      <th>1</th>\n",
       "      <td>alohayumburgerinside.jpg</td>\n",
       "      <td>bread</td>\n",
       "    </tr>\n",
       "    <tr>\n",
       "      <th>2</th>\n",
       "      <td>Hawaiian-chicken-Burger-Website-Image.png</td>\n",
       "      <td>dessert</td>\n",
       "    </tr>\n",
       "    <tr>\n",
       "      <th>3</th>\n",
       "      <td>images.jpg</td>\n",
       "      <td>bread</td>\n",
       "    </tr>\n",
       "    <tr>\n",
       "      <th>4</th>\n",
       "      <td>jollibee-chickenjoy.jpg</td>\n",
       "      <td>fried-food</td>\n",
       "    </tr>\n",
       "    <tr>\n",
       "      <th>5</th>\n",
       "      <td>Jollibee-Spaghetti640.jpg</td>\n",
       "      <td>noodles/pasta</td>\n",
       "    </tr>\n",
       "    <tr>\n",
       "      <th>6</th>\n",
       "      <td>jollibee_5.png</td>\n",
       "      <td>dessert</td>\n",
       "    </tr>\n",
       "    <tr>\n",
       "      <th>7</th>\n",
       "      <td>Ykaie-Jollibee-Party22.png</td>\n",
       "      <td>vegetable</td>\n",
       "    </tr>\n",
       "  </tbody>\n",
       "</table>\n",
       "</div>"
      ],
      "text/plain": [
       "                                    img_name          label\n",
       "0   878264dc-f7ea-453f-9ae5-66c95cdbc888.jpg  noodles/pasta\n",
       "1                   alohayumburgerinside.jpg          bread\n",
       "2  Hawaiian-chicken-Burger-Website-Image.png        dessert\n",
       "3                                 images.jpg          bread\n",
       "4                    jollibee-chickenjoy.jpg     fried-food\n",
       "5                  Jollibee-Spaghetti640.jpg  noodles/pasta\n",
       "6                             jollibee_5.png        dessert\n",
       "7                 Ykaie-Jollibee-Party22.png      vegetable"
      ]
     },
     "execution_count": 47,
     "metadata": {},
     "output_type": "execute_result"
    }
   ],
   "source": [
    "input_index = pd.read_csv('../data/Fake-Client/fclient-imgs-index.csv')\n",
    "\n",
    "input_index['label'] = yhat_labels\n",
    "# file_loc = '../output/actual-nnet-output.csv'\n",
    "# input_index.to_csv(file_loc, index=False, mode='w+')\n",
    "input_index"
   ]
  },
  {
   "cell_type": "code",
   "execution_count": 48,
   "metadata": {},
   "outputs": [],
   "source": [
    "input_index['tweet'] = input_index['label'].apply(lambda x: generate_tweet(tweet_dict, x))"
   ]
  },
  {
   "cell_type": "code",
   "execution_count": 109,
   "metadata": {},
   "outputs": [],
   "source": [
    "file_loc = '../data/Fake-Client/generated-tweets.csv'\n",
    "input_index.to_csv(file_loc, index=False, mode='w+')\n"
   ]
  },
  {
   "cell_type": "code",
   "execution_count": null,
   "metadata": {},
   "outputs": [],
   "source": []
  },
  {
   "cell_type": "code",
   "execution_count": null,
   "metadata": {},
   "outputs": [],
   "source": []
  },
  {
   "cell_type": "markdown",
   "metadata": {},
   "source": [
    "# Live Demo"
   ]
  },
  {
   "cell_type": "code",
   "execution_count": 57,
   "metadata": {},
   "outputs": [],
   "source": [
    "def write_names(dir_name, csv_fn):\n",
    "    '''Write file names in folder to csv.'''\n",
    "    img_names  = os.listdir(dir_name)\n",
    "    with open(csv_fn, 'w+') as f:\n",
    "        f.write('img_name,label\\n')\n",
    "        for i in range(len(img_names)):\n",
    "            img_name = img_names[i]\n",
    "            img_label = '-1'\n",
    "            row = f'{img_name},{img_label}\\n'\n",
    "            f.write(row)\n",
    "write_names('../data/Live-demo/imgs', '../data/Live-demo/fclient-imgs-index.csv')"
   ]
  },
  {
   "cell_type": "code",
   "execution_count": 58,
   "metadata": {},
   "outputs": [],
   "source": [
    "jolliset = Food11Dataset(csv_file='../data/Live-demo/fclient-imgs-index.csv',\n",
    "                         root_dir='../data/Live-demo/imgs',\n",
    "                        transform=my_transform)\n"
   ]
  },
  {
   "cell_type": "code",
   "execution_count": 59,
   "metadata": {},
   "outputs": [],
   "source": [
    "jolliloader = DataLoader(jolliset, batch_size=4,\n",
    "                         shuffle=False, num_workers=0) #num_workers=0 because can't parallelize in Windows\n",
    "classes = ('bread', 'dairy-product', 'dessert', 'egg', 'fried-food', 'meat', 'noodles/pasta', 'rice', 'seafood', 'soup', 'vegetable', 'fruit') # tuple that I can index into"
   ]
  },
  {
   "cell_type": "code",
   "execution_count": 60,
   "metadata": {},
   "outputs": [],
   "source": [
    "dataiter = iter(jolliloader)"
   ]
  },
  {
   "cell_type": "code",
   "execution_count": 62,
   "metadata": {},
   "outputs": [],
   "source": [
    "imgs1, _ = dataiter.next()\n",
    "predict = net(imgs1.float())\n",
    "_, y1 = torch.max(predict, 1)\n",
    "y1_labs = [classes[i] for i in y1]\n",
    "gen_twts1 = [generate_tweet(tweet_dict, i) for i in y1_labs]\n",
    "for l, t in zip(y1_labs, gen_twts1):\n",
    "    print('{} --> {}'.format(l, t))\n",
    "imshow(utils.make_grid(imgs1))"
   ]
  },
  {
   "cell_type": "code",
   "execution_count": 56,
   "metadata": {},
   "outputs": [],
   "source": [
    "imgs2, _ = dataiter.next()\n",
    "predict = net(imgs2.float())\n",
    "_, y2 = torch.max(predict, 1)\n",
    "y2_labs = [classes[i] for i in y2]\n",
    "gen_twts2 = [generate_tweet(tweet_dict, i) for i in y2_labs]\n",
    "for l, t in zip(y2_labs, gen_twts2):\n",
    "    print('{} --> {}'.format(l, t))\n",
    "imshow(utils.make_grid(imgs2))"
   ]
  },
  {
   "cell_type": "code",
   "execution_count": null,
   "metadata": {},
   "outputs": [],
   "source": [
    "imgs3, _ = dataiter.next()\n",
    "predict = net(imgs3.float())\n",
    "_, y3 = torch.max(predict, 1)\n",
    "y3_labs = [classes[i] for i in y3]\n",
    "gen_twts3 = [generate_tweet(tweet_dict, i) for i in y3_labs]\n",
    "for l, t in zip(y3_labs, gen_twts3):\n",
    "    print('{} --> {}'.format(l, t))\n",
    "imshow(utils.make_grid(imgs3))"
   ]
  }
 ],
 "metadata": {
  "kernelspec": {
   "display_name": "Python 3",
   "language": "python",
   "name": "python3"
  },
  "language_info": {
   "codemirror_mode": {
    "name": "ipython",
    "version": 3
   },
   "file_extension": ".py",
   "mimetype": "text/x-python",
   "name": "python",
   "nbconvert_exporter": "python",
   "pygments_lexer": "ipython3",
   "version": "3.6.4"
  }
 },
 "nbformat": 4,
 "nbformat_minor": 2
}
